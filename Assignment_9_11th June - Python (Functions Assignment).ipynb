{
 "cells": [
  {
   "cell_type": "markdown",
   "id": "c1811d6f",
   "metadata": {},
   "source": [
    "# 1. What is a lambda function in Python, and how does it differ from a regular function?"
   ]
  },
  {
   "cell_type": "markdown",
   "id": "dcd2471e",
   "metadata": {},
   "source": [
    "#### Answer:\n",
    "     * Lambda functions, also known as anonymous functions, are small, one-line functions that do\n",
    "     not have a name. lambda functions can take any number of arguments but can only have a\n",
    "     single expression.\n"
   ]
  },
  {
   "cell_type": "code",
   "execution_count": 7,
   "id": "240b9fda",
   "metadata": {},
   "outputs": [
    {
     "name": "stdout",
     "output_type": "stream",
     "text": [
      "25\n",
      "25\n"
     ]
    }
   ],
   "source": [
    "# Syntax:\n",
    "lambda arguments: expression\n",
    "\n",
    "# Regular function to square a number\n",
    "def square(x):\n",
    "    return x ** 2\n",
    "\n",
    "# Lambda function to square a number\n",
    "square_lambda = lambda x: x ** 2\n",
    "\n",
    "print(square(5))           # Output: 25\n",
    "print(square_lambda(5))"
   ]
  },
  {
   "cell_type": "markdown",
   "id": "f60459c6",
   "metadata": {},
   "source": [
    "##### Lambda functions are often used in situations where a small, simple function is required as an argument to another function, such as in functional programming, when working with higher-order functions like map(), filter(), or reduce(). \n"
   ]
  },
  {
   "cell_type": "markdown",
   "id": "cd6ce28b",
   "metadata": {},
   "source": [
    "# 2. Can a lambda function in Python have multiple arguments? If yes, how can you define and use them?"
   ]
  },
  {
   "cell_type": "markdown",
   "id": "24aac04c",
   "metadata": {},
   "source": [
    "## Answer:\n",
    "    Yes, a lambda function in Python can have multiple arguments. The syntax for defining a lambda function with multiple arguments is as follows:\n"
   ]
  },
  {
   "cell_type": "code",
   "execution_count": 10,
   "id": "c6f4a6bc",
   "metadata": {},
   "outputs": [
    {
     "name": "stdout",
     "output_type": "stream",
     "text": [
      "12\n"
     ]
    }
   ],
   "source": [
    "lambda arguments:expression\n",
    "multiply = lambda x, y: x * y\n",
    "result = multiply(3, 4)\n",
    "print(result)  # Output: 12"
   ]
  },
  {
   "cell_type": "markdown",
   "id": "41533eec",
   "metadata": {},
   "source": [
    "# 3. How are lambda functions typically used in Python? Provide an example use case."
   ]
  },
  {
   "cell_type": "code",
   "execution_count": 11,
   "id": "aded1e61",
   "metadata": {},
   "outputs": [
    {
     "name": "stdout",
     "output_type": "stream",
     "text": [
      "[1, 4, 9, 16, 25]\n"
     ]
    }
   ],
   "source": [
    "numbers = [1, 2, 3, 4, 5]\n",
    "squared_numbers = list(map(lambda x: x**2, numbers))\n",
    "print(squared_numbers)  # Output: [1, 4, 9, 16, 25]"
   ]
  },
  {
   "cell_type": "markdown",
   "id": "6675e34c",
   "metadata": {},
   "source": [
    "# 4. What are the advantages and limitations of lambda functions compared to regular functions in Python? "
   ]
  },
  {
   "cell_type": "markdown",
   "id": "c485f663",
   "metadata": {},
   "source": [
    "Answer:\n",
    "Advantages of lambda functions compared to regular functions in Python:\n",
    "\n",
    "* Concise and readable for simple, one-line operations.\n",
    "* Anonymous nature allows for temporary or inline function definitions.\n",
    "* Enables function composition and works well with higher-order functions.\n",
    "\n",
    "Limitations of lambda functions compared to regular functions in Python:\n",
    "\n",
    "* Limited to a single expression, cannot contain multiple statements or complex control flow.\n",
    "* Lack of documentation, making it harder for other developers to understand their purpose.\n",
    "* Readability can be compromised for longer or complex expressions."
   ]
  },
  {
   "cell_type": "markdown",
   "id": "db7f326b",
   "metadata": {},
   "source": [
    "# 5. Are lambda functions in Python able to access variables defined outside of their own scope? Explain with an example. "
   ]
  },
  {
   "cell_type": "markdown",
   "id": "de277d52",
   "metadata": {},
   "source": [
    "#### Answer:\n",
    " Yes, lambda functions in Python are able to access variables defined outside of their own scope. This behavior is known as \"lexical scoping\" or \"closure\". When a lambda function is defined"
   ]
  },
  {
   "cell_type": "code",
   "execution_count": 12,
   "id": "f514a085",
   "metadata": {},
   "outputs": [
    {
     "name": "stdout",
     "output_type": "stream",
     "text": [
      "10\n",
      "15\n"
     ]
    }
   ],
   "source": [
    "#Program:\n",
    "def multiplier(n):\n",
    "    return lambda x: x * n\n",
    "\n",
    "multiply_by_2 = multiplier(2)\n",
    "multiply_by_3 = multiplier(3)\n",
    "\n",
    "print(multiply_by_2(5))  # Output: 10\n",
    "print(multiply_by_3(5))  # Output: 15\n"
   ]
  },
  {
   "cell_type": "markdown",
   "id": "e1aa0fc2",
   "metadata": {},
   "source": [
    "# 6. Write a lambda function to calculate the square of a given number."
   ]
  },
  {
   "cell_type": "code",
   "execution_count": 13,
   "id": "f68689ad",
   "metadata": {},
   "outputs": [
    {
     "name": "stdout",
     "output_type": "stream",
     "text": [
      "25\n"
     ]
    }
   ],
   "source": [
    "#Answer:\n",
    "\n",
    "square = lambda x: x**2\n",
    "print(square(5))#Output: 25"
   ]
  },
  {
   "cell_type": "markdown",
   "id": "22e8beba",
   "metadata": {},
   "source": [
    "# 7. Create a lambda function to find the maximum value in a list of integers. "
   ]
  },
  {
   "cell_type": "code",
   "execution_count": 14,
   "id": "ac16f94a",
   "metadata": {},
   "outputs": [
    {
     "name": "stdout",
     "output_type": "stream",
     "text": [
      "5\n"
     ]
    }
   ],
   "source": [
    "# Answer:\n",
    "\n",
    "maximum = lambda x: max(x)\n",
    "print(maximum([1,2,3,4,5]))#Output: 5"
   ]
  },
  {
   "cell_type": "markdown",
   "id": "644a236f",
   "metadata": {},
   "source": [
    "# 8. Implement a lambda function to filter out all the even numbers from a list of integers. "
   ]
  },
  {
   "cell_type": "code",
   "execution_count": 15,
   "id": "ac885e67",
   "metadata": {},
   "outputs": [
    {
     "name": "stdout",
     "output_type": "stream",
     "text": [
      "[6, 6, 8, 8, 72, 2]\n"
     ]
    }
   ],
   "source": [
    "# Answer:\n",
    "\n",
    "list_item = [1,5,6,5,5,6,8,9,8,72,5,2,55,45]\n",
    "filtered_list= list(filter(lambda x:x%2==0,list_item))\n",
    "print(filtered_list)#Ouput: [6, 6, 8, 8, 72, 2]"
   ]
  },
  {
   "cell_type": "markdown",
   "id": "376acd54",
   "metadata": {},
   "source": [
    "# 9. Write a lambda function to sort a list of strings in ascending order based on the length of each string. "
   ]
  },
  {
   "cell_type": "code",
   "execution_count": 18,
   "id": "0f24ee20",
   "metadata": {},
   "outputs": [
    {
     "name": "stdout",
     "output_type": "stream",
     "text": [
      "['Sik', 'Anju', 'Vikas', 'Parmar', 'Sikarwar']\n"
     ]
    }
   ],
   "source": [
    "#Answer:\n",
    "\n",
    "names = [\"Vikas\",\"Anju\",\"Sikarwar\",\"Parmar\",\"Sik\"]\n",
    "sorted_names = sorted(names,key=lambda x:len(x))\n",
    "print(sorted_names) #Output: ['Sik', 'Anju', 'Vikas', 'Parmar', 'Sikarwar']"
   ]
  },
  {
   "cell_type": "markdown",
   "id": "bf0be8d3",
   "metadata": {},
   "source": [
    "# 10. Create a lambda function that takes two lists as input and returns a new list containing the common elements between the two lists."
   ]
  },
  {
   "cell_type": "code",
   "execution_count": 19,
   "id": "182a09c3",
   "metadata": {},
   "outputs": [
    {
     "name": "stdout",
     "output_type": "stream",
     "text": [
      "[9, 10, 4, 5]\n"
     ]
    }
   ],
   "source": [
    "#Answer:\n",
    "\n",
    "lst1 = [15, 9, 10, 56, 23, 78, 5, 4, 9]\n",
    "lst2 = [9, 4, 5, 36, 47, 26, 10, 45, 87]\n",
    "common_elements = lambda list1, list2: list(set(list1) & set(list2))\n",
    "print(common_elements(lst1,lst2)) #Ouput: [9, 10, 4, 5]"
   ]
  },
  {
   "cell_type": "markdown",
   "id": "75fd675c",
   "metadata": {},
   "source": [
    "# 11. Write a recursive function to calculate the factorial of a given positive integer. "
   ]
  },
  {
   "cell_type": "code",
   "execution_count": 43,
   "id": "0774f08c",
   "metadata": {},
   "outputs": [
    {
     "name": "stdout",
     "output_type": "stream",
     "text": [
      "Please provide the number to get the factorial of a number 6\n",
      "720\n"
     ]
    }
   ],
   "source": [
    "#Answer:\n",
    "def fact(n):\n",
    "    if n in [0,1]:\n",
    "        return 1\n",
    "    else:\n",
    "        result = n*fact(n-1)\n",
    "        return result\n",
    "Number = int(input('Please provide the number to get the factorial of a number '))\n",
    "print(fact(Number))"
   ]
  },
  {
   "cell_type": "markdown",
   "id": "9b8e2a0a",
   "metadata": {},
   "source": [
    "# 12. Implement a recursive function to compute the nth Fibonacci number. "
   ]
  },
  {
   "cell_type": "code",
   "execution_count": 31,
   "id": "0068c678",
   "metadata": {},
   "outputs": [
    {
     "name": "stdout",
     "output_type": "stream",
     "text": [
      "3\n"
     ]
    }
   ],
   "source": [
    "#Answer:\n",
    "\n",
    "def fibonacci(n):\n",
    "   \n",
    "    if n <=1:\n",
    "        return 0\n",
    "    elif n in [1,2]:\n",
    "        return 1\n",
    "    else:\n",
    "        return fibonacci(n-1)+fibonacci(n-2)\n",
    "print(fibonacci(5))#Output: 3"
   ]
  },
  {
   "cell_type": "markdown",
   "id": "3339fb6a",
   "metadata": {},
   "source": [
    "# 13. Create a recursive function to find the sum of all the elements in a given list. "
   ]
  },
  {
   "cell_type": "code",
   "execution_count": 32,
   "id": "f2d34aeb",
   "metadata": {},
   "outputs": [
    {
     "name": "stdout",
     "output_type": "stream",
     "text": [
      "7\n"
     ]
    }
   ],
   "source": [
    "#Answer:\n",
    "def sum_recursive(list_item):\n",
    "    if len(list_item) == 0:\n",
    "        return 0\n",
    "    else:\n",
    "        return list_item[0]+sum_recursive(list_item[1:])\n",
    "print(sum_recursive([1,2,4])) #Ouput: 7"
   ]
  },
  {
   "cell_type": "markdown",
   "id": "921bdec2",
   "metadata": {},
   "source": [
    "# 14. Write a recursive function to determine whether a given string is a palindrome. "
   ]
  },
  {
   "cell_type": "code",
   "execution_count": 34,
   "id": "75769279",
   "metadata": {},
   "outputs": [
    {
     "name": "stdout",
     "output_type": "stream",
     "text": [
      "enter the text to check the palindrome : 2\n",
      "String is palindrome\n"
     ]
    }
   ],
   "source": [
    "#Answer\n",
    "def is_palindrome(string):\n",
    "    if len(string) <= 1:\n",
    "        return \"String is palindrome\"\n",
    "\n",
    "    # Check if the first and last characters are equal\n",
    "    if string[0] == string[-1]:\n",
    "        return is_palindrome(string[1:-1])\n",
    "    \n",
    "    # If the first and last characters are not equal, it's not a palindrome\n",
    "    return \"this string is not palindrome\"\n",
    "text = input(\"enter the text to check the palindrome : \")\n",
    "print(is_palindrome(text))"
   ]
  },
  {
   "cell_type": "markdown",
   "id": "eb64a160",
   "metadata": {},
   "source": [
    "# 15. Implement a recursive function to find the greatest common divisor (GCD) of two positive integers"
   ]
  },
  {
   "cell_type": "code",
   "execution_count": 37,
   "id": "4990bbfc",
   "metadata": {},
   "outputs": [
    {
     "name": "stdout",
     "output_type": "stream",
     "text": [
      "Kindly enter the first value : 0\n",
      "Kindly enter the Second value : 1\n",
      "1\n"
     ]
    }
   ],
   "source": [
    "#Answer:\n",
    "\n",
    "def gcd(a, b):\n",
    "    if b == 0:\n",
    "        return a\n",
    "    else:\n",
    "        return gcd(b, a % b)\n",
    "a= int(input(\"Kindly enter the first value : \"))\n",
    "b= int(input(\"Kindly enter the Second value : \"))\n",
    "print(gcd(a,b))"
   ]
  },
  {
   "cell_type": "code",
   "execution_count": null,
   "id": "2a1ed4f7",
   "metadata": {},
   "outputs": [],
   "source": []
  }
 ],
 "metadata": {
  "kernelspec": {
   "display_name": "Python 3 (ipykernel)",
   "language": "python",
   "name": "python3"
  },
  "language_info": {
   "codemirror_mode": {
    "name": "ipython",
    "version": 3
   },
   "file_extension": ".py",
   "mimetype": "text/x-python",
   "name": "python",
   "nbconvert_exporter": "python",
   "pygments_lexer": "ipython3",
   "version": "3.10.9"
  }
 },
 "nbformat": 4,
 "nbformat_minor": 5
}
