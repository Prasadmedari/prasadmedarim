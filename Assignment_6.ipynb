{
 "cells": [
  {
   "cell_type": "markdown",
   "id": "421e7d63",
   "metadata": {},
   "source": [
    "### Q.1. What are keywords in python? Using the keyword library, print all the python keywords"
   ]
  },
  {
   "cell_type": "code",
   "execution_count": null,
   "id": "73c5375d",
   "metadata": {},
   "outputs": [],
   "source": [
    "#Answer:\n",
    "Keywords in Python are reserved words that have predefined meanings and cannot be used as identifiers (variable names, function names, etc.) in the code. \n",
    "These keywords are used to define the syntax and structure of the Python language."
   ]
  },
  {
   "cell_type": "code",
   "execution_count": 1,
   "id": "64d47cfa",
   "metadata": {},
   "outputs": [
    {
     "name": "stdout",
     "output_type": "stream",
     "text": [
      "['False', 'None', 'True', 'and', 'as', 'assert', 'async', 'await', 'break', 'class', 'continue', 'def', 'del', 'elif', 'else', 'except', 'finally', 'for', 'from', 'global', 'if', 'import', 'in', 'is', 'lambda', 'nonlocal', 'not', 'or', 'pass', 'raise', 'return', 'try', 'while', 'with', 'yield']\n"
     ]
    }
   ],
   "source": [
    "#what are packages\n",
    "import keyword\n",
    "print(keyword.kwlist)"
   ]
  },
  {
   "cell_type": "markdown",
   "id": "9a2a8a2e",
   "metadata": {},
   "source": [
    "### Q.2. What are the rules to create variables in python?"
   ]
  },
  {
   "cell_type": "code",
   "execution_count": null,
   "id": "08fa10d1",
   "metadata": {},
   "outputs": [],
   "source": [
    "A variable name must start with a letter or the underscore character.\n",
    "A variable name cannot start with a number.\n",
    "A variable name can only contain alpha-numeric characters and underscores (A-z, 0-9, and _ )\n",
    "Variable names are case-sensitive (age, Age and AGE are three different variables)"
   ]
  },
  {
   "cell_type": "markdown",
   "id": "ffd4c4cb",
   "metadata": {},
   "source": [
    "### Q.3. What are the standards and conventions followed for the nomenclature of variables in python to improve code readability and maintainability?\n"
   ]
  },
  {
   "cell_type": "markdown",
   "id": "a8dc895a",
   "metadata": {},
   "source": [
    "####  Answer\n",
    "###### In Python, there are several standards and conventions followed for variable naming to enhance code readability and maintainability. These conventions include:\n",
    "\n",
    "###### 1. Snake Case: Variable names are written in lowercase with words separated by underscores (e.g., my_variable, total_count).\n",
    "\n",
    "###### 2. Descriptive Names: Variable names should be meaningful and descriptive to convey their purpose and content (e.g., num_students, user_input).\n",
    "\n",
    "###### 3. Avoid Abbreviations: Unless widely used and understood, it's better to avoid excessive abbreviations to maintain clarity (e.g., use maximum instead of max).\n",
    "\n",
    "###### 4. Use of Constants: Constants are usually written in uppercase letters with underscores (e.g., MAX_VALUE, PI).\n",
    "\n",
    "###### By following these standards and conventions, code becomes more readable, self-explanatory, and easier to maintain, enabling collaboration and understanding among developers."
   ]
  },
  {
   "cell_type": "markdown",
   "id": "03297818",
   "metadata": {},
   "source": [
    "### Q.4. What will happen if a keyword is used as a variable name?"
   ]
  },
  {
   "cell_type": "code",
   "execution_count": null,
   "id": "f69f155f",
   "metadata": {},
   "outputs": [],
   "source": [
    "#Answer\n",
    "We cannot use a keyword as a variable name, function name, or any other identifier. \n",
    "They are used to define the syntax and structure of the Python language. \n",
    "All the keywords except True , False and None are in lowercase and they must be written as they are."
   ]
  },
  {
   "cell_type": "markdown",
   "id": "5f5e53d0",
   "metadata": {},
   "source": [
    "### Q.5. For what purpose def keyword is used?"
   ]
  },
  {
   "cell_type": "code",
   "execution_count": null,
   "id": "d4de3adf",
   "metadata": {},
   "outputs": [],
   "source": [
    "#Answer\n",
    "def is the keyword for defining a function. The function name is followed by parameter(s) in (). \n",
    "The colon : signals the start of the function body, which is marked by indentation. \n",
    "Inside the function body, the return statement determines the value to be returned."
   ]
  },
  {
   "cell_type": "markdown",
   "id": "0742b10d",
   "metadata": {},
   "source": [
    "### Q.6. What is the operation of this special character ‘\\’?"
   ]
  },
  {
   "cell_type": "code",
   "execution_count": null,
   "id": "327838a5",
   "metadata": {},
   "outputs": [],
   "source": [
    "#Answer\n",
    "\n",
    "The backslash character () is an escape character in Python. \n",
    "It is used to indicate special characters or sequences in strings. For example, \\n represents a newline character, \\t represents a tab character, and \" represents a double quote character. It allows the inclusion of characters that are not easily typable or have special meanings within strings.\n"
   ]
  },
  {
   "cell_type": "markdown",
   "id": "1bcf87f4",
   "metadata": {},
   "source": [
    "### Q.7. Give an example of the following conditions:\n",
    "#### (i) Homogeneous list\n",
    "#### (ii) Heterogeneous set\n",
    "#### (iii) Homogeneous tuple\n"
   ]
  },
  {
   "cell_type": "markdown",
   "id": "de79ec87",
   "metadata": {},
   "source": [
    "Answer:\n",
    "(i) Homogeneous list: A homogeneous list is a list where all the elements are of the same data type. Here's an example of a homogeneous list of integers:"
   ]
  },
  {
   "cell_type": "code",
   "execution_count": 2,
   "id": "91685d61",
   "metadata": {},
   "outputs": [],
   "source": [
    "numbers = [1, 2, 3, 4, 5, 6]"
   ]
  },
  {
   "cell_type": "markdown",
   "id": "52c827ea",
   "metadata": {},
   "source": [
    "Answer:(ii) Heterogeneous set: A heterogeneous set is a set where the elements can be of different data types. Here's an example of a heterogeneous set:"
   ]
  },
  {
   "cell_type": "code",
   "execution_count": 3,
   "id": "f8a021db",
   "metadata": {},
   "outputs": [],
   "source": [
    "my_set = {1, 'apple', True, 3.14}"
   ]
  },
  {
   "cell_type": "markdown",
   "id": "2d16ea09",
   "metadata": {},
   "source": [
    "Answer:\n",
    "(iii) Homogeneous tuple: A homogeneous tuple is a tuple where all the elements are of the same data type. Here's an example of a homogeneous tuple of strings:"
   ]
  },
  {
   "cell_type": "code",
   "execution_count": 4,
   "id": "8d8a6cc4",
   "metadata": {},
   "outputs": [],
   "source": [
    "fruits = ('apple', 'banana', 'orange', 'kiwi', 'Mango')"
   ]
  },
  {
   "cell_type": "markdown",
   "id": "1433d4f8",
   "metadata": {},
   "source": [
    "### Q.8. Explain the mutable and immutable data types with proper explanation & examples"
   ]
  },
  {
   "cell_type": "code",
   "execution_count": null,
   "id": "f7de1729",
   "metadata": {},
   "outputs": [],
   "source": [
    "#Answer\n",
    "The key difference between mutable and immutable data types is that mutable objects can be modified directly, \n",
    "while immutable objects cannot be changed after creation. \n",
    "Understanding mutability is crucial for avoiding unexpected side effects when working with data in Python."
   ]
  },
  {
   "cell_type": "markdown",
   "id": "927111f7",
   "metadata": {},
   "source": [
    "### Q.9. Write a code to create the given structure using only for loop"
   ]
  },
  {
   "cell_type": "code",
   "execution_count": 6,
   "id": "0a8e3d1f",
   "metadata": {},
   "outputs": [
    {
     "name": "stdout",
     "output_type": "stream",
     "text": [
      "          * \n",
      "        * * * \n",
      "      * * * * * \n",
      "    * * * * * * * \n",
      "  * * * * * * * * * \n"
     ]
    }
   ],
   "source": [
    "n = 5\n",
    "\n",
    "for i in range(n):\n",
    "    for j in range(i,n):\n",
    "        print(\" \", end = \" \")\n",
    "    for j in range(i):\n",
    "        print(\"*\", end=\" \")\n",
    "    for j in range(i+1):\n",
    "        print(\"*\", end=\" \")\n",
    "    print()"
   ]
  },
  {
   "cell_type": "markdown",
   "id": "4466b182",
   "metadata": {},
   "source": [
    "### Q.10. Write a code to create the given structure using while loop"
   ]
  },
  {
   "cell_type": "code",
   "execution_count": 7,
   "id": "983f391c",
   "metadata": {},
   "outputs": [
    {
     "name": "stdout",
     "output_type": "stream",
     "text": [
      "  | | | | | | | | | \n",
      "    | | | | | | | \n",
      "      | | | | | \n",
      "        | | | \n",
      "          | \n"
     ]
    }
   ],
   "source": [
    "n=5\n",
    "\n",
    "for i in range(n):\n",
    "    for j in range(i+1):\n",
    "        print(\" \", end =\" \")\n",
    "    for j in range(i,n):\n",
    "        print(\"|\", end= \" \")\n",
    "    for j in range(i, n-1):\n",
    "        print(\"|\", end= \" \")\n",
    "    print()"
   ]
  },
  {
   "cell_type": "code",
   "execution_count": null,
   "id": "5d23af10",
   "metadata": {},
   "outputs": [],
   "source": []
  }
 ],
 "metadata": {
  "kernelspec": {
   "display_name": "Python 3 (ipykernel)",
   "language": "python",
   "name": "python3"
  },
  "language_info": {
   "codemirror_mode": {
    "name": "ipython",
    "version": 3
   },
   "file_extension": ".py",
   "mimetype": "text/x-python",
   "name": "python",
   "nbconvert_exporter": "python",
   "pygments_lexer": "ipython3",
   "version": "3.10.9"
  }
 },
 "nbformat": 4,
 "nbformat_minor": 5
}
