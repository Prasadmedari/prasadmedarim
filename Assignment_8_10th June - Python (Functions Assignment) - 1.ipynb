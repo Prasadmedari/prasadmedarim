{
 "cells": [
  {
   "cell_type": "markdown",
   "id": "6738d17e",
   "metadata": {},
   "source": [
    "# 1. In Python, what is the difference between a built-in function and a user-defined function? Provide an example of each"
   ]
  },
  {
   "cell_type": "markdown",
   "id": "0c97c25f",
   "metadata": {},
   "source": [
    "### Answer\n",
    "#### User Defined Function\n",
    "A user-defined function in Python is a code block that performs a specific task and is defined by the programmer. Here are the key points about user-defined functions:\n",
    "\n",
    "Definition: User-defined functions are created with the def keyword followed by a function name of your choosing"
   ]
  },
  {
   "cell_type": "code",
   "execution_count": 1,
   "id": "1852f533",
   "metadata": {},
   "outputs": [
    {
     "name": "stdout",
     "output_type": "stream",
     "text": [
      "Hello, this is my first function\n"
     ]
    }
   ],
   "source": [
    "def introduction():\n",
    "  print(\"Hello, this is my first function\")\n",
    "\n",
    "# Call function\n",
    "introduction()"
   ]
  },
  {
   "cell_type": "code",
   "execution_count": 2,
   "id": "f04cb16d",
   "metadata": {},
   "outputs": [
    {
     "name": "stdout",
     "output_type": "stream",
     "text": [
      "John is my first name\n"
     ]
    }
   ],
   "source": [
    "# Single argument \n",
    "def introduction(fname):\n",
    "  print(fname + \" is my first name\")\n",
    "\n",
    "introduction(\"John\")"
   ]
  },
  {
   "cell_type": "markdown",
   "id": "bf1fa115",
   "metadata": {},
   "source": [
    "#### Built-in function\n",
    "\n",
    "The Python built-in functions are defined as the functions whose functionality is pre-defined in Python. The python interpreter has several functions that are always present for use. These functions are known as Built-in Functions. There are several built-in functions in Python which are listed below:\n",
    "\n",
    "example : print(), len(), min(), Max(), list(), range()"
   ]
  },
  {
   "cell_type": "code",
   "execution_count": 3,
   "id": "54704b2b",
   "metadata": {},
   "outputs": [
    {
     "name": "stdout",
     "output_type": "stream",
     "text": [
      "True\n"
     ]
    }
   ],
   "source": [
    "# all values true  \n",
    "k = [1, 3, 4, 6]  \n",
    "print(all(k)) "
   ]
  },
  {
   "cell_type": "code",
   "execution_count": 4,
   "id": "c0739fa7",
   "metadata": {},
   "outputs": [
    {
     "name": "stdout",
     "output_type": "stream",
     "text": [
      "False\n"
     ]
    }
   ],
   "source": [
    "# all values false  \n",
    "k = [0, False]  \n",
    "print(all(k)) "
   ]
  },
  {
   "cell_type": "code",
   "execution_count": 5,
   "id": "6a743ff2",
   "metadata": {},
   "outputs": [
    {
     "name": "stdout",
     "output_type": "stream",
     "text": [
      "b'Hello World.'\n"
     ]
    }
   ],
   "source": [
    "string = \"Hello World.\"  \n",
    "array = bytes(string, 'utf-8')  \n",
    "print(array)  "
   ]
  },
  {
   "cell_type": "markdown",
   "id": "dd21343f",
   "metadata": {},
   "source": [
    "### 2. How can you pass arguments to a function in Python? Explain the difference between positional arguments and keyword arguments."
   ]
  },
  {
   "cell_type": "markdown",
   "id": "2e440b20",
   "metadata": {},
   "source": [
    "## Answer\n",
    "Information can be passed into functions as arguments. Arguments are specified after the function name, inside the parentheses. \n",
    "You can add as many arguments as you want, just separate them with a comma."
   ]
  },
  {
   "cell_type": "code",
   "execution_count": 3,
   "id": "d967199f",
   "metadata": {},
   "outputs": [
    {
     "name": "stdout",
     "output_type": "stream",
     "text": [
      "Prasad This is my name\n"
     ]
    }
   ],
   "source": [
    "def introduction(firstname): #we are passing some arguements or parameters\n",
    "    print(firstname + \" This is my name\") #whatever you want to process will be in body, #body of the function\n",
    "#call the function\n",
    "introduction(\"Prasad\")"
   ]
  },
  {
   "cell_type": "raw",
   "id": "0cdfe644",
   "metadata": {},
   "source": [
    "# Positional Arguments: \n",
    "* An argument is a variable, value or object passed to a function or method as input. Positional arguments are arguments that need to be included in the proper position or order.\n",
    "\n",
    "* The first positional argument always needs to be listed first when the function is called. The second positional argument needs to be listed second and the third positional argument listed third, etc.\n",
    "\n",
    "* An example of positional arguments can be seen in Python’s complex() function. This function returns a complex number with a real term and an imaginary term. The order that numbers are passed to the complex() function determines which number is the real term and which number is the imaginary term.\n",
    "\n",
    "* If the complex number 3 + 5j is created, the two positional arguments are the numbers 3 and 5. As positional arguments, 3 must be listed first, and 5 must be listed second"
   ]
  },
  {
   "cell_type": "code",
   "execution_count": 4,
   "id": "9b3813f9",
   "metadata": {},
   "outputs": [
    {
     "data": {
      "text/plain": [
       "(3+5j)"
      ]
     },
     "execution_count": 4,
     "metadata": {},
     "output_type": "execute_result"
    }
   ],
   "source": [
    "term_list = [3, 5]\n",
    "complex(*term_list)"
   ]
  },
  {
   "cell_type": "markdown",
   "id": "c2774ea5",
   "metadata": {},
   "source": [
    "### Keyword Arguments\n",
    "A keyword argument is an argument passed to a function or method which is preceded by a keyword and an equals sign. \n",
    "The general form is:\n",
    "\n",
    "function(keyword=value)\n",
    "\n",
    "Where function is the function name, keyword is the keyword argument and value is the value or object passed as that keyword.\n",
    "\n",
    "Python's complex function can also accept two keyword arguments. The two keyword arguments are real= and imag=. To create the complex number 3 + 5j the 3 and 5 can be passed to the function as the values assigned to the keyword arguments real= and imag="
   ]
  },
  {
   "cell_type": "code",
   "execution_count": 5,
   "id": "b229a49c",
   "metadata": {},
   "outputs": [
    {
     "data": {
      "text/plain": [
       "(3+5j)"
      ]
     },
     "execution_count": 5,
     "metadata": {},
     "output_type": "execute_result"
    }
   ],
   "source": [
    "complex(real=3, imag=5)"
   ]
  },
  {
   "cell_type": "code",
   "execution_count": 7,
   "id": "292970b7",
   "metadata": {},
   "outputs": [
    {
     "data": {
      "text/plain": [
       "(3+5j)"
      ]
     },
     "execution_count": 7,
     "metadata": {},
     "output_type": "execute_result"
    }
   ],
   "source": [
    "keyword_dict = {'real': 3, 'imag': 5}\n",
    "complex(**keyword_dict)"
   ]
  },
  {
   "cell_type": "markdown",
   "id": "83213bdb",
   "metadata": {},
   "source": [
    "## 3. What is the purpose of the return statement in a function? Can a function have multiple return statements? Explain with an example.\n"
   ]
  },
  {
   "cell_type": "markdown",
   "id": "e1274c39",
   "metadata": {},
   "source": [
    "### Answer\n",
    "* A return statement ends the processing of the current function and returns control to the caller of the function.\n",
    "* A return statement is used to end the execution of the function call and “returns” the result (value of the expression following the return keyword) to the caller. \n",
    "* The statements after the return statements are not executed. If the return statement is without any expression, then the special value None is returned. \n",
    "* A return statement is overall used to invoke a function so that the passed statements can be executed\n",
    "\n",
    "\n",
    "     The purpose of the return statement in a function is to specify the value that the function should produce or provide as output when it is called. When a return statement is encountered in a function, it immediately exits the function and returns the specified value to the caller\n"
   ]
  },
  {
   "cell_type": "code",
   "execution_count": 1,
   "id": "89284b35",
   "metadata": {},
   "outputs": [
    {
     "name": "stdout",
     "output_type": "stream",
     "text": [
      "['geeksforgeeks', 20]\n"
     ]
    }
   ],
   "source": [
    "# Example\n",
    "# A Python program to return multiple\n",
    "# values from a method using list\n",
    "\n",
    "# This function returns a list\n",
    "def fun():\n",
    "\tstr = \"geeksforgeeks\"\n",
    "\tx = 20\n",
    "\treturn [str, x];\n",
    "\n",
    "# Driver code to test above method\n",
    "list = fun()\n",
    "print(list)"
   ]
  },
  {
   "cell_type": "markdown",
   "id": "3d2a9384",
   "metadata": {},
   "source": [
    "## 4.What are lambda functions in Python? How are they different from regular functions? Provide an example where a lambda function can be useful."
   ]
  },
  {
   "cell_type": "markdown",
   "id": "ac4bb857",
   "metadata": {},
   "source": [
    "### Answer\n",
    "\n",
    "Lambda Function\n",
    "here are some key points about lambda functions in Python, each point is a one-liner:\n",
    "\n",
    "* Lambda functions are small, anonymous functions defined with the lambda keyword.\n",
    "* They can take any number of arguments but can only have one expression.\n",
    "* The expression is evaluated and returned when the function is called.\n",
    "* Lambda functions do not require a return statement, the expression is implicitly returned.\n",
    "* They can be used wherever function objects are required, like inside functions like map(), filter(), and reduce().\n",
    "* You can't include statements like loops, if, or else in lambda functions; only expressions are allowed.\n",
    "* Lambda functions are useful for small tasks that are not reused throughout your code.\n",
    "* They can be assigned to variables and used like regular functions."
   ]
  },
  {
   "cell_type": "code",
   "execution_count": 8,
   "id": "105bbe19",
   "metadata": {},
   "outputs": [
    {
     "name": "stdout",
     "output_type": "stream",
     "text": [
      "16\n"
     ]
    }
   ],
   "source": [
    "### Example\n",
    "# Define a lambda function that takes three arguments and returns their sum\n",
    "add_three_numbers = lambda x, y, z: x + y + z\n",
    "\n",
    "# Use the lambda function\n",
    "result = add_three_numbers(5, 3, 8)\n",
    "print(result)  # Output: 16"
   ]
  },
  {
   "cell_type": "markdown",
   "id": "500f5006",
   "metadata": {},
   "source": [
    "### 5. How does the concept of \"scope\" apply to functions in Python? Explain the difference between local scope and global scope"
   ]
  },
  {
   "cell_type": "markdown",
   "id": "d91be1da",
   "metadata": {},
   "source": [
    "## Answer\n",
    "* The scope defines the accessibility of the python object. To access the particular variable in the code, the scope must be defined as it cannot be accessed from anywhere in the program. \n",
    "* The particular coding region where variables are visible is known as scope. Variables are not visible to the entire code; their visibility can be restricted. \n",
    "* Scope verifies which variable can be ‘Seen’. The scope defines the set of rules which tell us how and where a variable can be searched. \n",
    "* The variable is searched either to retrieve a value or for assigning value. The namespace is the unique identification of the variable or the method. \n",
    "* Namespace tells the python interpreter about the name of the object and the location from where it is trying to access it."
   ]
  },
  {
   "cell_type": "markdown",
   "id": "2e29480c",
   "metadata": {},
   "source": [
    "#### Local Scope\n",
    "* The Variables which are defined in the function are a local scope of the variable. \n",
    "* These variables are defined in the function body. Let’s understand this concept with the help of an example. In this example 1, we have taken one variable num. Num = 0 is defined outside the function, so it is not a local variable. As per our definition, the variables which are declared inside the function body is a local variable. \n",
    "* Here num=1 is a local variable that is declared and printed inside the function demo. If we run this code, the output is given below."
   ]
  },
  {
   "cell_type": "code",
   "execution_count": 9,
   "id": "dcbe4745",
   "metadata": {},
   "outputs": [
    {
     "name": "stdout",
     "output_type": "stream",
     "text": [
      "The Number is: 1\n"
     ]
    }
   ],
   "source": [
    "# Example:\n",
    "num=0\n",
    "def demo():\n",
    "    #print(num)\n",
    "    num=1\n",
    "    print(\"The Number is:\",num)\n",
    "demo()"
   ]
  },
  {
   "cell_type": "markdown",
   "id": "1d3e40e2",
   "metadata": {},
   "source": [
    "### Global Scope\n",
    "The Variable which can be read from anywhere in the program is known as a global scope. These variables can be accessed inside and outside the function. When we want to use the same variable in the rest of the program, we declare it as global."
   ]
  },
  {
   "cell_type": "code",
   "execution_count": 6,
   "id": "cde6e14a",
   "metadata": {},
   "outputs": [
    {
     "name": "stdout",
     "output_type": "stream",
     "text": [
      "You are clever\n"
     ]
    }
   ],
   "source": [
    "# Example:\n",
    "def demo():\n",
    "    print(Str)\n",
    "  #  Global  \n",
    "Str = \"You are clever\"\n",
    "demo()"
   ]
  },
  {
   "cell_type": "markdown",
   "id": "17b4f1fd",
   "metadata": {},
   "source": [
    "# 6. How can you use the \"return\" statement in a Python function to return multiple values?"
   ]
  },
  {
   "cell_type": "markdown",
   "id": "cac05324",
   "metadata": {},
   "source": [
    "## Answer\n",
    "### Python Return Multiple Values:\n",
    "Functions are used to perform a specific task which most likely involves returning a particular value. However, a few use-cases may require you to return two or more values. In other programming languages, the code to achieve this might be quite complex but Python provides a few handy methods to return multiple values."
   ]
  },
  {
   "cell_type": "code",
   "execution_count": 12,
   "id": "24a41f19",
   "metadata": {},
   "outputs": [
    {
     "name": "stdout",
     "output_type": "stream",
     "text": [
      "Sum 15\n"
     ]
    }
   ],
   "source": [
    "#Returning Multiple Values using Tuples\n",
    "def multiple():\n",
    "    operation = \"Sum\" \n",
    "    total = 5+10\n",
    "    return operation, total;\n",
    "\n",
    "operation, total = multiple()\n",
    "\n",
    "print(operation, total)"
   ]
  },
  {
   "cell_type": "markdown",
   "id": "baf66c48",
   "metadata": {},
   "source": [
    "### 7. What is the difference between the \"pass by value\" and \"pass by reference\" concepts when it comes to function arguments in Python?"
   ]
  },
  {
   "cell_type": "markdown",
   "id": "b30efa07",
   "metadata": {},
   "source": [
    "## Answer\n",
    "The main difference between pass by value and pass by reference is that, in a pass by value, \n",
    "the parameter value copies to another variable while, in a pass by reference, the actual parameter passes to the function."
   ]
  },
  {
   "cell_type": "markdown",
   "id": "ead88906",
   "metadata": {},
   "source": [
    "When a function is called, the arguments in a function can be passed by value or passed by reference. The values that are passed in the function call are called the actual parameters. The values received by the function (when it is called ) are called the formal parameters.\n",
    "\n",
    "## 1.Pass by value -\n",
    "\n",
    "Pass by value means that a copy of the actual parameter’s value is made in memory, i.e. the caller and callee have two independent variables with the same value. If the callee modifies the parameter value, the effect is not visible to the caller.\n",
    "\n",
    "##### Overview:\n",
    "\n",
    "1.Passes an argument by value. 2.Callee does not have any access to the underlying element in the calling code. 3.A copy of the data is sent to the callee. 4.Changes made to the passed variable do not affect the actual value.\n",
    "\n",
    "## 2.Pass by reference-\n",
    "\n",
    "Pass by reference (also called pass by address) means to pass the reference of an argument in the calling function to the corresponding formal parameter of the called function so that a copy of the address of the actual parameter is made in memory, i.e. the caller and the callee use the same variable for the parameter. If the callee modifies the parameter variable, the effect is visible to the caller’s variable.\n",
    "\n",
    "##### Overview:\n",
    "\n",
    "1.Passes an argument by reference. 2.Callee gives a direct reference to the programming element in the calling code. 3.The memory address of the stored data is passed. 4.Changes to the value have an effect on the original data.\n",
    "\n",
    "\n",
    "## Difference Between Pass by Value and Pass by Reference\n",
    "#### Definition\n",
    "* Pass by value refers to a mechanism of copying the function parameter value to another variable while the pass by reference refers to a mechanism of passing the actual parameters to the function. Thus, this is the main difference between pass by value and pass by reference.\n",
    "\n",
    "#### Changes\n",
    "* In pass by value, the changes made inside the function are not reflected in the original value. On the other hand, in pass by reference, the changes made inside the function are reflected in the original value. Hence, this is another difference between pass by value and pass by reference.\n",
    "\n",
    "#### Actual Parameter\n",
    "* Moreover, pass by value makes a copy of the actual parameter. However, in pass by reference, the address of the actual parameter passes to the function.\n",
    "\n",
    "#### Association with Function\n",
    "* Another difference between pass by value and pass by reference is that, in pass by value, the function gets a copy of the actual content whereas, in pass by reference, the function accesses the original variable’s content.\n",
    "\n",
    "#### Memory Requirement\n",
    "* Besides, the pass by value requires more memory than pass by reference.\n",
    "\n",
    "#### Time Requirement\n",
    "* Time requirement is one other difference between pass by value and pass by reference. Pass by value requires more time as it involves copying values whereas pass by reference requires a less amount of time as there is no copying.\n",
    "\n",
    "#### Conclusion\n",
    "* The main difference between pass by value and pass by reference is that, in pass by value, the parameter value copies to another variable while in pass by reference, the actual parameter passes to the function."
   ]
  },
  {
   "cell_type": "markdown",
   "id": "c6688b5a",
   "metadata": {},
   "source": [
    "### 8. Create a function that can intake integer or decimal value and do following operations:\n",
    "* a. Logarithmic function (log x)\n",
    "* b. Exponential function (exp(x))\n",
    "* c. Power function with base 2 (2x)\n",
    "* d. Square root"
   ]
  },
  {
   "cell_type": "markdown",
   "id": "b58c3009",
   "metadata": {},
   "source": [
    "# Answer"
   ]
  },
  {
   "cell_type": "code",
   "execution_count": 2,
   "id": "234e5b56",
   "metadata": {},
   "outputs": [],
   "source": [
    "import math\n",
    "\n",
    "def perform_operations(value):\n",
    "    # Logarithmic function (log x)\n",
    "    log_result = math.log(value)\n",
    "    \n",
    "    # Exponential function (exp(x))\n",
    "    exp_result = math.exp(value)\n",
    "    \n",
    "    # Power function with base 2 (2^x)\n",
    "    power_result = math.pow(2, value)\n",
    "    \n",
    "    # Square root function\n",
    "    sqrt_result = math.sqrt(value)\n",
    "    \n",
    "    # Return the results as a dictionary\n",
    "    results = {\n",
    "        'Logarithmic': log_result,\n",
    "        'Exponential': exp_result,\n",
    "        'Power (base 2)': power_result,\n",
    "        'Square Root': sqrt_result\n",
    "    }\n",
    "    \n",
    "    return results"
   ]
  },
  {
   "cell_type": "code",
   "execution_count": 3,
   "id": "024b2c90",
   "metadata": {},
   "outputs": [
    {
     "name": "stdout",
     "output_type": "stream",
     "text": [
      "{'Logarithmic': 1.5040773967762742, 'Exponential': 90.01713130052181, 'Power (base 2)': 22.627416997969522, 'Square Root': 2.1213203435596424}\n"
     ]
    }
   ],
   "source": [
    "input_value = 4.5\n",
    "output = perform_operations(input_value)\n",
    "print(output)"
   ]
  },
  {
   "cell_type": "markdown",
   "id": "a2f3216a",
   "metadata": {},
   "source": [
    "### 9. Create a function that takes a full name as an argument and returns first name and last name"
   ]
  },
  {
   "cell_type": "code",
   "execution_count": 2,
   "id": "1e6572bd",
   "metadata": {},
   "outputs": [
    {
     "name": "stdout",
     "output_type": "stream",
     "text": [
      "My first name is John and my last name is Alter\n"
     ]
    }
   ],
   "source": [
    "#Example 1\n",
    "def introduction(fname, lname):\n",
    "  print(\"My first name is \" + fname + \" and my last name is \" + lname)\n",
    "\n",
    "introduction(\"John\", \"Alter\")"
   ]
  },
  {
   "cell_type": "code",
   "execution_count": 8,
   "id": "1c575529",
   "metadata": {},
   "outputs": [
    {
     "name": "stdout",
     "output_type": "stream",
     "text": [
      "prasad medari\n"
     ]
    }
   ],
   "source": [
    "#Example\n",
    "first_name = \"prasad\"\n",
    "last_name = \"medari\"\n",
    "\n",
    "print(first_name , last_name)"
   ]
  },
  {
   "cell_type": "code",
   "execution_count": null,
   "id": "3f375e28",
   "metadata": {},
   "outputs": [],
   "source": []
  }
 ],
 "metadata": {
  "kernelspec": {
   "display_name": "Python 3 (ipykernel)",
   "language": "python",
   "name": "python3"
  },
  "language_info": {
   "codemirror_mode": {
    "name": "ipython",
    "version": 3
   },
   "file_extension": ".py",
   "mimetype": "text/x-python",
   "name": "python",
   "nbconvert_exporter": "python",
   "pygments_lexer": "ipython3",
   "version": "3.10.9"
  }
 },
 "nbformat": 4,
 "nbformat_minor": 5
}
